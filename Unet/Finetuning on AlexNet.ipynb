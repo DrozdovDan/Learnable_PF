{
 "cells": [
  {
   "cell_type": "markdown",
   "metadata": {},
   "source": [
    "# Imports"
   ]
  },
  {
   "cell_type": "code",
   "execution_count": 1,
   "metadata": {},
   "outputs": [
    {
     "name": "stderr",
     "output_type": "stream",
     "text": [
      "/home/motatasher/miniconda3/envs/HS4/lib/python3.12/site-packages/tqdm/auto.py:21: TqdmWarning: IProgress not found. Please update jupyter and ipywidgets. See https://ipywidgets.readthedocs.io/en/stable/user_install.html\n",
      "  from .autonotebook import tqdm as notebook_tqdm\n"
     ]
    }
   ],
   "source": [
    "import torch\n",
    "from torch import nn\n",
    "import torch.nn.functional as F\n",
    "\n",
    "import pandas as pd\n",
    "import numpy as np\n",
    "\n",
    "from tqdm.auto import tqdm\n",
    "\n",
    "import plotly.express as px\n",
    "import plotly.graph_objects as go\n",
    "import matplotlib.pyplot as plt\n",
    "from PIL import Image, ImageDraw\n",
    "\n",
    "# from plotly_resampler import FigureWidgetResampler\n",
    "\n",
    "import os\n",
    "import typing as tp\n",
    "import numpy.typing as npt\n",
    "\n",
    "import wandb\n",
    "import lightning as L\n",
    "from lightning.pytorch.utilities.types import STEP_OUTPUT\n",
    "from torch.utils.data import Dataset, DataLoader\n",
    "from pytorch_lightning.loggers import WandbLogger\n",
    "from lightning.pytorch.callbacks import ModelCheckpoint\n",
    "import importlib\n",
    "# os.environ['KMP_DUPLICATE_LIB_OK']='True'"
   ]
  },
  {
   "cell_type": "code",
   "execution_count": 2,
   "metadata": {},
   "outputs": [],
   "source": [
    "%load_ext autoreload\n",
    "%autoreload 2\n"
   ]
  },
  {
   "cell_type": "code",
   "execution_count": 3,
   "metadata": {},
   "outputs": [],
   "source": [
    "import visualizatoin\n",
    "import Model\n",
    "import Maps\n",
    "\n",
    "importlib.reload(visualizatoin)\n",
    "importlib.reload(Model)\n",
    "importlib.reload(Maps)\n",
    "\n",
    "import visualizatoin\n",
    "from Model import *\n",
    "import Maps"
   ]
  },
  {
   "cell_type": "markdown",
   "metadata": {
    "vscode": {
     "languageId": "plaintext"
    }
   },
   "source": [
    "# Model"
   ]
  },
  {
   "cell_type": "code",
   "execution_count": 4,
   "metadata": {},
   "outputs": [],
   "source": [
    "import torch\n",
    "from torch import nn\n",
    "import torch.nn.functional as F\n",
    "\n",
    "\n",
    "class DoubleConv(nn.Module):\n",
    "    def __init__(self, in_channels, out_channels, mid_channels=None):\n",
    "        super().__init__()\n",
    "        if not mid_channels:\n",
    "            mid_channels = out_channels\n",
    "        self.double_conv = nn.Sequential(\n",
    "            nn.Conv2d(in_channels, mid_channels, kernel_size=3, padding=1, bias=False),\n",
    "            nn.BatchNorm2d(mid_channels),\n",
    "            nn.ReLU(inplace=True),\n",
    "            nn.Conv2d(mid_channels, out_channels, kernel_size=3, padding=1, bias=False),\n",
    "            nn.BatchNorm2d(out_channels),\n",
    "            nn.ReLU(inplace=True)\n",
    "        )\n",
    "\n",
    "    def forward(self, x):\n",
    "        return self.double_conv(x)\n",
    "\n",
    "\n",
    "class Down(nn.Module):\n",
    "    def __init__(self, in_channels, out_channels):\n",
    "        super().__init__()\n",
    "        self.maxpool_conv = nn.Sequential(\n",
    "            nn.MaxPool2d(2),\n",
    "            DoubleConv(in_channels, out_channels)\n",
    "        )\n",
    "\n",
    "    def forward(self, x):\n",
    "        return self.maxpool_conv(x)\n",
    "\n",
    "\n",
    "class Up(nn.Module):\n",
    "    def __init__(self, in_channels, out_channels, bilinear=True):\n",
    "        super().__init__()\n",
    "\n",
    "        if bilinear:\n",
    "            self.up = nn.Upsample(scale_factor=2, mode='bilinear', align_corners=True)\n",
    "            self.conv = DoubleConv(in_channels, out_channels, in_channels // 2)\n",
    "        else:\n",
    "            self.up = nn.ConvTranspose2d(in_channels, in_channels // 2, kernel_size=2, stride=2)\n",
    "            self.conv = DoubleConv(in_channels, out_channels)\n",
    "\n",
    "    def forward(self, x1, x2):\n",
    "        x1 = self.up(x1)\n",
    "        diffY = x2.size()[2] - x1.size()[2]\n",
    "        diffX = x2.size()[3] - x1.size()[3]\n",
    "\n",
    "        x1 = F.pad(x1, [diffX // 2, diffX - diffX // 2,\n",
    "                        diffY // 2, diffY - diffY // 2])\n",
    "        x = torch.cat([x2, x1], dim=1)\n",
    "        return self.conv(x)\n",
    "\n",
    "\n",
    "class OutConv(nn.Module):\n",
    "    def __init__(self, in_channels, out_channels):\n",
    "        super(OutConv, self).__init__()\n",
    "        self.conv = nn.Conv2d(in_channels, out_channels, kernel_size=1)\n",
    "\n",
    "    def forward(self, x):\n",
    "        return self.conv(x)\n",
    "    \n",
    "\n",
    "\n",
    "class UNet(nn.Module):\n",
    "    def __init__(self, n_channels, bilinear=False):\n",
    "        super(UNet, self).__init__()\n",
    "        self.n_channels = n_channels\n",
    "        self.bilinear = bilinear\n",
    "\n",
    "        self.inc = (DoubleConv(n_channels, 32))\n",
    "        self.down1 = (Down(32, 64))\n",
    "        self.down2 = (Down(64, 128))\n",
    "        factor = 2 if bilinear else 1\n",
    "        self.down3 = (Down(128, 256 // factor))\n",
    "\n",
    "        self.up1 = (Up(256, 128 // factor, bilinear))\n",
    "        self.up2 = (Up(128, 64 // factor, bilinear))\n",
    "        self.up3 = (Up(64, 32, bilinear))\n",
    "        self.outc = (OutConv(32, 1))\n",
    "\n",
    "    def forward(self, x):\n",
    "        x1 = self.inc(x)\n",
    "        x2 = self.down1(x1)\n",
    "        x3 = self.down2(x2)\n",
    "        x4 = self.down3(x3)\n",
    "        x = self.up1(x4, x3)\n",
    "        x = self.up2(x, x2)\n",
    "        x = self.up3(x, x1)\n",
    "        logits = self.outc(x)\n",
    "        return logits\n"
   ]
  },
  {
   "cell_type": "markdown",
   "metadata": {},
   "source": [
    "# Losses"
   ]
  },
  {
   "cell_type": "code",
   "execution_count": 5,
   "metadata": {},
   "outputs": [],
   "source": [
    "def mse_loss(pred, target, cells):\n",
    "    return nn.MSELoss()(pred[~torch.isinf(target)], target[~torch.isinf(target)])\n",
    "\n",
    "\n",
    "def mae_loss(pred, target, cells):\n",
    "    return nn.L1Loss()(pred[~torch.isinf(target)], target[~torch.isinf(target)])\n",
    "\n",
    "\n",
    "def piecewise_mae_loss(pred, target, cells, min_val, max_val, alpha1=1, alpha2=1):\n",
    "    loss = 0\n",
    "    for p, t in zip(pred[~torch.isinf(target)].flatten(), target[~torch.isinf(target)].flatten()):\n",
    "        if p < min_val:\n",
    "            loss += alpha1 * abs(p - t)\n",
    "        elif p > max_val:\n",
    "            loss += alpha2 * abs(p - t)\n",
    "        else:\n",
    "            loss += abs(p - t)\n",
    "    return loss / len(pred.flatten())\n",
    "\n",
    "\n",
    "def lossgrad_loss(pred, target, fake=None):\n",
    "    kernel = torch.tensor([[1, 0, -1],\n",
    "                            [2, 0, -2],\n",
    "                            [1, 0, -1]], dtype=torch.float32).unsqueeze(0).unsqueeze(0)\n",
    "    \n",
    "    kernel = kernel.to(pred.device)\n",
    "    \n",
    "    pred_grad_x = F.conv2d(pred.unsqueeze(0), kernel, padding=1)\n",
    "    target_grad_x = F.conv2d(target.unsqueeze(0), kernel, padding=1)\n",
    "\n",
    "    sobel_kernel_vertical = kernel.transpose(2, 3)\n",
    "    \n",
    "    pred_grad_y = F.conv2d(pred.unsqueeze(0), sobel_kernel_vertical, padding=1)\n",
    "    target_grad_y = F.conv2d(target.unsqueeze(0), sobel_kernel_vertical, padding=1)\n",
    "    \n",
    "    x_ind = ~torch.isinf(target_grad_x) & ~torch.isnan(target_grad_x)\n",
    "    y_ind = ~torch.isinf(target_grad_y) & ~torch.isnan(target_grad_y)\n",
    "\n",
    "    grad_error_x = torch.abs(pred_grad_x[x_ind] - target_grad_x[x_ind])\n",
    "    grad_error_y = torch.abs(pred_grad_y[y_ind] - target_grad_y[y_ind])\n",
    "\n",
    "    loss = (grad_error_x.sum() + grad_error_y.sum()) / (len(grad_error_x) + len(grad_error_y))\n",
    "    return loss\n"
   ]
  },
  {
   "cell_type": "markdown",
   "metadata": {},
   "source": [
    "# Dataset"
   ]
  },
  {
   "cell_type": "code",
   "execution_count": 6,
   "metadata": {},
   "outputs": [],
   "source": [
    "path = './AlekSet/train'\n",
    "files = os.listdir(path)\n",
    "def GetPath(name : int | str):\n",
    "    if type(name) is int:\n",
    "        return np.load(os.path.join(path, files[name]), mmap_mode='c')\n",
    "    else:\n",
    "        return np.load(os.path.join(path, name), mmap_mode='c')"
   ]
  },
  {
   "cell_type": "code",
   "execution_count": 7,
   "metadata": {},
   "outputs": [],
   "source": [
    "class GridData(Dataset):\n",
    "    def __init__(self, path, img_size=64):\n",
    "        self.img_size = img_size\n",
    "\n",
    "        self.maps = torch.tensor(np.load(os.path.join(path, 'maps.npy')))\n",
    "        self.starts = torch.tensor(np.load(os.path.join(path, 'starts.npy')))\n",
    "        self.goals = torch.tensor(np.load(os.path.join(path, 'goals.npy')))\n",
    "        self.targets = torch.tensor(np.load(os.path.join(path, 'abs.npy')))\n",
    "\n",
    "    def __len__(self):\n",
    "        return len(self.maps)\n",
    "    \n",
    "    def get_with_all(self, idx):\n",
    "        cells = self.maps[idx, 0]\n",
    "        positions_map = self.goals[idx, 0]\n",
    "        start_map = self.starts[idx, 0]\n",
    "        shape = (-1, self.img_size, self.img_size)\n",
    "        target = self.targets[idx, 0]\n",
    "        return cells.reshape(shape).type(torch.float), \\\n",
    "            positions_map.reshape(shape).type(torch.float), \\\n",
    "                start_map.reshape(shape).type(torch.float), \\\n",
    "                    target.reshape(shape).type(torch.float)\n",
    "    \n",
    "    def __getitem__(self, idx):\n",
    "        cells = self.maps[idx, 0]\n",
    "        positions_map = self.goals[idx, 0]\n",
    "        shape = (-1, self.img_size, self.img_size)\n",
    "        target = self.targets[idx, 0]\n",
    "        return cells.reshape(shape).type(torch.float), \\\n",
    "            positions_map.reshape(shape).type(torch.float), \\\n",
    "                target.reshape(shape).type(torch.float)"
   ]
  },
  {
   "cell_type": "code",
   "execution_count": 8,
   "metadata": {},
   "outputs": [],
   "source": [
    "dataset_dir = './AlekSet'\n",
    "batch_size = 4\n",
    "max_epochs = 1000\n",
    "learning_rate = 1e-4\n",
    "weight_decay = 0.0\n",
    "limit_train_batches = 500\n",
    "limit_val_batches = 100\n",
    "proj_name = 'motatasher_HS2_AlekSet'\n",
    "run_name = 'default'"
   ]
  },
  {
   "cell_type": "code",
   "execution_count": 9,
   "metadata": {},
   "outputs": [],
   "source": [
    "train_data = GridData(\n",
    "        path=f'{dataset_dir}/train',\n",
    "    )\n",
    "val_data = GridData(\n",
    "        path=f'{dataset_dir}/val',\n",
    "    )\n",
    "resolution = (train_data.img_size, train_data.img_size)"
   ]
  },
  {
   "cell_type": "code",
   "execution_count": 10,
   "metadata": {},
   "outputs": [],
   "source": [
    "torch.manual_seed(42)\n",
    "train_dataloader = DataLoader(\n",
    "        train_data, \n",
    "        batch_size=batch_size,\n",
    "        shuffle=True, \n",
    "        num_workers=2,\n",
    "        # num_workers=multiprocessing.cpu_count(), freezes jupyter notebook\n",
    "        pin_memory=True\n",
    "    )\n",
    "val_dataloader = DataLoader(\n",
    "        val_data, \n",
    "        batch_size=batch_size,\n",
    "        shuffle=False, \n",
    "        num_workers=2,\n",
    "        # num_workers=multiprocessing.cpu_count(), freezes jupyter notebook\n",
    "        pin_memory=True\n",
    "    )\n",
    "samples = next(iter(val_dataloader))"
   ]
  },
  {
   "cell_type": "markdown",
   "metadata": {},
   "source": [
    "# Training"
   ]
  },
  {
   "cell_type": "code",
   "execution_count": 11,
   "metadata": {},
   "outputs": [],
   "source": [
    "torch.serialization.add_safe_globals([nn.Conv2d])\n",
    "torch.serialization.add_safe_globals([nn.Sequential])\n",
    "torch.serialization.add_safe_globals([set])\n",
    "torch.serialization.add_safe_globals([nn.BatchNorm2d])\n",
    "torch.serialization.add_safe_globals([nn.ReLU])\n",
    "torch.serialization.add_safe_globals([nn.MaxPool2d])\n",
    "torch.serialization.add_safe_globals([nn.ConvTranspose2d]) \n",
    " \n",
    "torch.serialization.add_safe_globals([DoubleConv])\n",
    "torch.serialization.add_safe_globals([Down])\n",
    "torch.serialization.add_safe_globals([Up])\n",
    "torch.serialization.add_safe_globals([OutConv])\n",
    "torch.serialization.add_safe_globals([UNet])\n",
    "\n",
    "torch.serialization.add_safe_globals([mse_loss])"
   ]
  },
  {
   "cell_type": "code",
   "execution_count": 12,
   "metadata": {},
   "outputs": [],
   "source": [
    "model : UNet = torch.load('checkpoints/mode=0-epoch=2999-timestr=0.ckpt', weights_only=True)['hyper_parameters']['model']"
   ]
  },
  {
   "cell_type": "code",
   "execution_count": 13,
   "metadata": {},
   "outputs": [],
   "source": [
    "optimizer = torch.optim.AdamW(model.parameters())\n",
    "loss_func = lossgrad_loss"
   ]
  },
  {
   "cell_type": "code",
   "execution_count": 14,
   "metadata": {},
   "outputs": [],
   "source": [
    "class UnetLit(L.LightningModule):\n",
    "    def __init__(self, model: nn.Module, mode: str='f', learning_rate: float=1e-4,\n",
    "                 weight_decay: float=0.0, loss = mse_loss) -> None:\n",
    "        super().__init__()\n",
    "        self.save_hyperparameters()\n",
    "\n",
    "        self.model = model\n",
    "        self.mode = mode\n",
    "        self.loss = loss\n",
    "        self.k = 64 * 64 if mode == 'h' else 1\n",
    "\n",
    "        self.learning_rate = learning_rate\n",
    "        self.weight_decay = weight_decay\n",
    "\n",
    "    def training_step(\n",
    "        self, batch: tuple[torch.Tensor, torch.Tensor, torch.Tensor, torch.Tensor], batch_idx: int\n",
    "    ) -> STEP_OUTPUT:\n",
    "        cells, positions_map, target = batch\n",
    "        inputs = torch.cat([cells, positions_map], dim=1)\n",
    "        predictions = self.model(inputs)\n",
    "        loss = self.loss(predictions, target, cells)\n",
    "        self.log(f'train_loss', loss, on_step=False, on_epoch=True)\n",
    "        return loss\n",
    "\n",
    "    def validation_step(\n",
    "        self, batch: tuple[torch.Tensor, torch.Tensor, torch.Tensor], batch_idx: int\n",
    "    ) -> STEP_OUTPUT | None:\n",
    "        cells, positions_map, target = batch\n",
    "        inputs = torch.cat([cells, positions_map], dim=1)\n",
    "        predictions = self.model(inputs)\n",
    "        loss = self.loss(predictions, target, cells)\n",
    "        self.log(f'val_loss', loss, on_step=False, on_epoch=True)\n",
    "        return loss\n",
    "\n",
    "    def configure_optimizers(self) -> dict[str, tp.Any]:\n",
    "        optimizer = torch.optim.Adam(self.model.parameters(), lr=self.learning_rate, weight_decay=self.weight_decay)\n",
    "        scheduler = torch.optim.lr_scheduler.OneCycleLR(\n",
    "            optimizer, max_lr=self.learning_rate, total_steps=self.trainer.estimated_stepping_batches\n",
    "        )\n",
    "        return {\n",
    "            \"optimizer\": optimizer,\n",
    "            \"lr_scheduler\": scheduler\n",
    "        }"
   ]
  },
  {
   "cell_type": "code",
   "execution_count": 15,
   "metadata": {},
   "outputs": [],
   "source": [
    "class PathLogger(L.Callback):\n",
    "    def __init__(self, val_batch, num_samples=10, mode='f'):\n",
    "        super().__init__()\n",
    "        cells, positions_map, target = val_batch[:num_samples]\n",
    "        inputs = torch.cat([cells, positions_map], dim=1)\n",
    "        self.val_samples = inputs[:num_samples]\n",
    "\n",
    "    def on_validation_epoch_end(self, trainer, lightning_module):\n",
    "        val_samples = self.val_samples.to(device=lightning_module.device)\n",
    "        prediction = lightning_module.model(val_samples)\n",
    "        if lightning_module.mode == 'h':\n",
    "            prediction = prediction * 64 * 64\n",
    "\n",
    "        trainer.logger.experiment.log({\n",
    "            'data': [wandb.Image(x) for x in self.val_samples],\n",
    "            'predictions': [wandb.Image(x) for x in torch.cat([val_samples, prediction], dim=1)]\n",
    "        })"
   ]
  },
  {
   "cell_type": "code",
   "execution_count": 16,
   "metadata": {},
   "outputs": [],
   "source": [
    "train_data = GridData(\n",
    "        path=f'{dataset_dir}/train',\n",
    "    )\n",
    "val_data = GridData(\n",
    "        path=f'{dataset_dir}/val',\n",
    "    )\n",
    "resolution = (train_data.img_size, train_data.img_size)"
   ]
  },
  {
   "cell_type": "code",
   "execution_count": 17,
   "metadata": {},
   "outputs": [],
   "source": [
    "torch.manual_seed(42)\n",
    "train_dataloader = DataLoader(\n",
    "        train_data, \n",
    "        batch_size=batch_size,\n",
    "        shuffle=True, \n",
    "        num_workers=2,\n",
    "        pin_memory=True\n",
    "    )\n",
    "val_dataloader = DataLoader(\n",
    "        val_data, \n",
    "        batch_size=batch_size,\n",
    "        shuffle=False, \n",
    "        num_workers=2,\n",
    "        pin_memory=True\n",
    "    )\n",
    "samples = next(iter(val_dataloader))"
   ]
  },
  {
   "cell_type": "code",
   "execution_count": 18,
   "metadata": {},
   "outputs": [
    {
     "name": "stderr",
     "output_type": "stream",
     "text": [
      "/home/motatasher/miniconda3/envs/HS4/lib/python3.12/site-packages/lightning/pytorch/utilities/parsing.py:209: Attribute 'model' is an instance of `nn.Module` and is already saved during checkpointing. It is recommended to ignore them using `self.save_hyperparameters(ignore=['model'])`.\n",
      "Trainer will use only 1 of 7 GPUs because it is running inside an interactive / notebook environment. You may try to set `Trainer(devices=7)` but please note that multi-GPU inside interactive / notebook environments is considered experimental and unstable. Your mileage may vary.\n",
      "GPU available: True (cuda), used: True\n",
      "TPU available: False, using: 0 TPU cores\n",
      "HPU available: False, using: 0 HPUs\n"
     ]
    }
   ],
   "source": [
    "torch.manual_seed(42)\n",
    "callback = PathLogger(samples)\n",
    "checkpoints = ModelCheckpoint(dirpath='checkpoints_Alek/', filename='{mode}-{epoch}-{timestr}', every_n_epochs=50)\n",
    "wandb_logger = WandbLogger(project=proj_name, name=f'{run_name}_{\"h\"}', log_model='all')\n",
    "\n",
    "model : UNet = torch.load('checkpoints/mode=0-epoch=2999-timestr=0.ckpt', weights_only=True)['hyper_parameters']['model']\n",
    "lit_module = UnetLit(\n",
    "        model=model,\n",
    "        mode='h',\n",
    "        learning_rate=learning_rate,\n",
    "        weight_decay=weight_decay\n",
    "    )\n",
    "\n",
    "trainer = L.Trainer(\n",
    "        logger=wandb_logger,\n",
    "        accelerator=\"auto\",\n",
    "        max_epochs=max_epochs,\n",
    "        deterministic=False,\n",
    "        limit_train_batches=limit_train_batches,\n",
    "        limit_val_batches=limit_val_batches,\n",
    "        callbacks=[callback, checkpoints],\n",
    "    )"
   ]
  },
  {
   "cell_type": "code",
   "execution_count": 31,
   "metadata": {},
   "outputs": [
    {
     "name": "stdout",
     "output_type": "stream",
     "text": [
      "[[60 36]] [[ 9 47]]\n"
     ]
    },
    {
     "data": {
      "image/png": "[encoded data removed]",
      "text/plain": [
       "<Figure size 600x600 with 2 Axes>"
      ]
     },
     "metadata": {},
     "output_type": "display_data"
    },
    {
     "name": "stdout",
     "output_type": "stream",
     "text": [
      "[[60 36]] [[ 9 47]]\n"
     ]
    },
    {
     "data": {
      "image/png": "[encoded data removed]",
      "text/plain": [
       "<Figure size 600x600 with 2 Axes>"
      ]
     },
     "metadata": {},
     "output_type": "display_data"
    }
   ],
   "source": [
    "ind = np.random.randint(0, len(val_data))\n",
    "# ind = 1\n",
    "cells, positions_map, target = val_data[ind]\n",
    "inputs = torch.cat([cells, positions_map], dim=0).to('cuda').unsqueeze(0)\n",
    "predictions = model(inputs).detach().cpu().numpy().squeeze(0)\n",
    "\n",
    "visualizatoin.plot_map(val_data.get_with_all(ind)[:3], ind, predictions)\n",
    "visualizatoin.plot_map(val_data.get_with_all(ind)[:3], ind, target.numpy())"
   ]
  },
  {
   "cell_type": "code",
   "execution_count": 32,
   "metadata": {},
   "outputs": [
    {
     "name": "stderr",
     "output_type": "stream",
     "text": [
      "You are using a CUDA device ('NVIDIA A100-PCIE-40GB') that has Tensor Cores. To properly utilize them, you should set `torch.set_float32_matmul_precision('medium' | 'high')` which will trade-off precision for performance. For more details, read https://pytorch.org/docs/stable/generated/torch.set_float32_matmul_precision.html#torch.set_float32_matmul_precision\n"
     ]
    },
    {
     "name": "stderr",
     "output_type": "stream",
     "text": [
      "\u001b[34m\u001b[1mwandb\u001b[0m: Currently logged in as: \u001b[33mmotatasher\u001b[0m (\u001b[33mmotatasher-saint-petersburg-state-university\u001b[0m). Use \u001b[1m`wandb login --relogin`\u001b[0m to force relogin\n",
      "\u001b[34m\u001b[1mwandb\u001b[0m: Using wandb-core as the SDK backend.  Please refer to https://wandb.me/wandb-core for more information.\n"
     ]
    },
    {
     "data": {
      "text/html": [
       "Tracking run with wandb version 0.19.4"
      ],
      "text/plain": [
       "<IPython.core.display.HTML object>"
      ]
     },
     "metadata": {},
     "output_type": "display_data"
    },
    {
     "data": {
      "text/html": [
       "Run data is saved locally in <code>./wandb/run-20250129_052757-flcz0xmy</code>"
      ],
      "text/plain": [
       "<IPython.core.display.HTML object>"
      ]
     },
     "metadata": {},
     "output_type": "display_data"
    },
    {
     "data": {
      "text/html": [
       "Syncing run <strong><a href='https://wandb.ai/motatasher-saint-petersburg-state-university/motatasher_HS2_AlekSet/runs/flcz0xmy' target=\"_blank\">default_h</a></strong> to <a href='https://wandb.ai/motatasher-saint-petersburg-state-university/motatasher_HS2_AlekSet' target=\"_blank\">Weights & Biases</a> (<a href='https://wandb.me/developer-guide' target=\"_blank\">docs</a>)<br>"
      ],
      "text/plain": [
       "<IPython.core.display.HTML object>"
      ]
     },
     "metadata": {},
     "output_type": "display_data"
    },
    {
     "data": {
      "text/html": [
       " View project at <a href='https://wandb.ai/motatasher-saint-petersburg-state-university/motatasher_HS2_AlekSet' target=\"_blank\">https://wandb.ai/motatasher-saint-petersburg-state-university/motatasher_HS2_AlekSet</a>"
      ],
      "text/plain": [
       "<IPython.core.display.HTML object>"
      ]
     },
     "metadata": {},
     "output_type": "display_data"
    },
    {
     "data": {
      "text/html": [
       " View run at <a href='https://wandb.ai/motatasher-saint-petersburg-state-university/motatasher_HS2_AlekSet/runs/flcz0xmy' target=\"_blank\">https://wandb.ai/motatasher-saint-petersburg-state-university/motatasher_HS2_AlekSet/runs/flcz0xmy</a>"
      ],
      "text/plain": [
       "<IPython.core.display.HTML object>"
      ]
     },
     "metadata": {},
     "output_type": "display_data"
    },
    {
     "name": "stderr",
     "output_type": "stream",
     "text": [
      "LOCAL_RANK: 0 - CUDA_VISIBLE_DEVICES: [0,1,2,3,4,5,6]\n",
      "Loading `train_dataloader` to estimate number of stepping batches.\n",
      "\n",
      "  | Name  | Type | Params | Mode \n",
      "---------------------------------------\n",
      "0 | model | UNet | 1.9 M  | train\n",
      "---------------------------------------\n",
      "1.9 M     Trainable params\n",
      "0         Non-trainable params\n",
      "1.9 M     Total params\n",
      "7.707     Total estimated model params size (MB)\n",
      "74        Modules in train mode\n",
      "0         Modules in eval mode\n"
     ]
    },
    {
     "name": "stdout",
     "output_type": "stream",
     "text": [
      "Epoch 856:  68%|██████▊   | 339/500 [00:07<00:03, 46.19it/s, v_num=0xmy]   "
     ]
    }
   ],
   "source": [
    "trainer.fit(lit_module, train_dataloader, val_dataloader)\n",
    "wandb.finish()"
   ]
  }
 ],
 "metadata": {
  "kernelspec": {
   "display_name": "HS4",
   "language": "python",
   "name": "python3"
  },
  "language_info": {
   "codemirror_mode": {
    "name": "ipython",
    "version": 3
   },
   "file_extension": ".py",
   "mimetype": "text/x-python",
   "name": "python",
   "nbconvert_exporter": "python",
   "pygments_lexer": "ipython3",
   "version": "3.12.8"
  }
 },
 "nbformat": 4,
 "nbformat_minor": 4
}
