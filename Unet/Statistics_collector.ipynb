{
 "cells": [
  {
   "cell_type": "markdown",
   "id": "8861adc7",
   "metadata": {},
   "source": [
    "# Imports"
   ]
  },
  {
   "cell_type": "code",
   "execution_count": 1,
   "id": "83e78f55-7c1a-4f88-b3c2-ac9478b2afe6",
   "metadata": {},
   "outputs": [],
   "source": [
    "import random\n",
    "import traceback\n",
    "from heapq import heappop, heappush\n",
    "from pathlib import Path\n",
    "from textwrap import dedent\n",
    "from typing import Callable, Dict, Iterable, List, Optional, Tuple, Type, Union\n",
    "\n",
    "import matplotlib.pyplot as plt\n",
    "import numpy as np\n",
    "import numpy.typing as npt\n",
    "from PIL import Image, ImageDraw\n",
    "import pandas as pd\n",
    "from tqdm import tqdm\n",
    "epsilon = 1e-3\n",
    "import torch\n",
    "from torch.utils.data import Dataset, DataLoader\n",
    "# from TransPath_model import TransPathModel, GridData, TransPathLit\n",
    "from search_algorithms import Map, Node, SearchTreePQD, make_path, octile_distance, astar, astar_func, wastar\n",
    "import os\n",
    "\n",
    "%matplotlib inline"
   ]
  },
  {
   "cell_type": "code",
   "execution_count": 2,
   "id": "a8e6c55d",
   "metadata": {},
   "outputs": [],
   "source": [
    "\n",
    "class GridData(Dataset):\n",
    "    \"\"\"\n",
    "    'mode' argument defines type of ground truth values:\n",
    "        f - focal values\n",
    "        h - absolute ideal heuristic values\n",
    "        cf - correction factor values\n",
    "    \"\"\"\n",
    "    def __init__(self, path, mode='f', clip_value=0.95, img_size=64):\n",
    "        self.img_size = img_size\n",
    "        self.clip_v = clip_value\n",
    "        self.mode = mode\n",
    "\n",
    "        self.maps   = np.load(os.path.join(path,    'maps.npy'),    mmap_mode='c')\n",
    "        self.goals  = np.load(os.path.join(path,    'goals.npy'),   mmap_mode='c')\n",
    "        self.starts = np.load(os.path.join(path,    'starts.npy'),  mmap_mode='c')\n",
    "\n",
    "        file_gt = {'f' : 'focal.npy', 'h':'abs.npy', 'cf': 'cf.npy'}[mode]\n",
    "        self.gt_values = np.load(os.path.join(path, file_gt), mmap_mode='c')\n",
    "\n",
    "\n",
    "    def __len__(self):\n",
    "        return len(self.gt_values)\n",
    "    \n",
    "    def __getitem__(self, idx):\n",
    "        gt_ = torch.from_numpy(self.gt_values[idx].astype('float32'))\n",
    "        if self.mode == 'f':\n",
    "            gt_=  torch.where( gt_ >= self.clip_v, gt_ , torch.zeros_like( torch.from_numpy(self.gt_values[idx])))\n",
    "        return (torch.from_numpy(self.maps[idx].astype('float32')), \n",
    "                torch.from_numpy(self.starts[idx].astype('float32')), \n",
    "                torch.from_numpy(self.goals[idx].astype('float32')), \n",
    "                gt_ )"
   ]
  },
  {
   "cell_type": "code",
   "execution_count": 3,
   "id": "c2355353",
   "metadata": {},
   "outputs": [],
   "source": [
    "import torch\n",
    "from torch import nn\n",
    "import torch.nn.functional as F\n",
    "\n",
    "\n",
    "class DoubleConv(nn.Module):\n",
    "    def __init__(self, in_channels, out_channels, mid_channels=None):\n",
    "        super().__init__()\n",
    "        if not mid_channels:\n",
    "            mid_channels = out_channels\n",
    "        self.double_conv = nn.Sequential(\n",
    "            nn.Conv2d(in_channels, mid_channels, kernel_size=3, padding=1, bias=False),\n",
    "            nn.BatchNorm2d(mid_channels),\n",
    "            nn.ReLU(inplace=True),\n",
    "            nn.Conv2d(mid_channels, out_channels, kernel_size=3, padding=1, bias=False),\n",
    "            nn.BatchNorm2d(out_channels),\n",
    "            nn.ReLU(inplace=True)\n",
    "        )\n",
    "\n",
    "    def forward(self, x):\n",
    "        return self.double_conv(x)\n",
    "\n",
    "\n",
    "class Down(nn.Module):\n",
    "    def __init__(self, in_channels, out_channels):\n",
    "        super().__init__()\n",
    "        self.maxpool_conv = nn.Sequential(\n",
    "            nn.MaxPool2d(2),\n",
    "            DoubleConv(in_channels, out_channels)\n",
    "        )\n",
    "\n",
    "    def forward(self, x):\n",
    "        return self.maxpool_conv(x)\n",
    "\n",
    "\n",
    "class Up(nn.Module):\n",
    "    def __init__(self, in_channels, out_channels, bilinear=True):\n",
    "        super().__init__()\n",
    "\n",
    "        if bilinear:\n",
    "            self.up = nn.Upsample(scale_factor=2, mode='bilinear', align_corners=True)\n",
    "            self.conv = DoubleConv(in_channels, out_channels, in_channels // 2)\n",
    "        else:\n",
    "            self.up = nn.ConvTranspose2d(in_channels, in_channels // 2, kernel_size=2, stride=2)\n",
    "            self.conv = DoubleConv(in_channels, out_channels)\n",
    "\n",
    "    def forward(self, x1, x2):\n",
    "        x1 = self.up(x1)\n",
    "        diffY = x2.size()[2] - x1.size()[2]\n",
    "        diffX = x2.size()[3] - x1.size()[3]\n",
    "\n",
    "        x1 = F.pad(x1, [diffX // 2, diffX - diffX // 2,\n",
    "                        diffY // 2, diffY - diffY // 2])\n",
    "        x = torch.cat([x2, x1], dim=1)\n",
    "        return self.conv(x)\n",
    "\n",
    "\n",
    "class OutConv(nn.Module):\n",
    "    def __init__(self, in_channels, out_channels):\n",
    "        super(OutConv, self).__init__()\n",
    "        self.conv = nn.Conv2d(in_channels, out_channels, kernel_size=1)\n",
    "\n",
    "    def forward(self, x):\n",
    "        return self.conv(x)\n",
    "    \n",
    "\n",
    "\n",
    "class UNet(nn.Module):\n",
    "    def __init__(self, n_channels, bilinear=False):\n",
    "        super(UNet, self).__init__()\n",
    "        self.n_channels = n_channels\n",
    "        self.bilinear = bilinear\n",
    "\n",
    "        self.inc = (DoubleConv(n_channels, 32))\n",
    "        self.down1 = (Down(32, 64))\n",
    "        self.down2 = (Down(64, 128))\n",
    "        factor = 2 if bilinear else 1\n",
    "        self.down3 = (Down(128, 256 // factor))\n",
    "\n",
    "        self.up1 = (Up(256, 128 // factor, bilinear))\n",
    "        self.up2 = (Up(128, 64 // factor, bilinear))\n",
    "        self.up3 = (Up(64, 32, bilinear))\n",
    "        self.outc = (OutConv(32, 1))\n",
    "\n",
    "    def forward(self, x):\n",
    "        x1 = self.inc(x)\n",
    "        x2 = self.down1(x1)\n",
    "        x3 = self.down2(x2)\n",
    "        x4 = self.down3(x3)\n",
    "        x = self.up1(x4, x3)\n",
    "        x = self.up2(x, x2)\n",
    "        x = self.up3(x, x1)\n",
    "        logits = self.outc(x)\n",
    "        return logits\n"
   ]
  },
  {
   "cell_type": "code",
   "execution_count": 4,
   "id": "dedbccae",
   "metadata": {},
   "outputs": [],
   "source": [
    "def mse_loss(pred, target, cells):\n",
    "    return nn.MSELoss()(pred[~torch.isinf(target)], target[~torch.isinf(target)])\n",
    "\n",
    "\n",
    "def mae_loss(pred, target, cells):\n",
    "    return nn.L1Loss()(pred[~torch.isinf(target)], target[~torch.isinf(target)])\n",
    "\n",
    "\n",
    "def piecewise_mae_loss(pred, target, cells, min_val, max_val, alpha1=1, alpha2=1):\n",
    "    loss = 0\n",
    "    for p, t in zip(pred[~torch.isinf(target)].flatten(), target[~torch.isinf(target)].flatten()):\n",
    "        if p < min_val:\n",
    "            loss += alpha1 * abs(p - t)\n",
    "        elif p > max_val:\n",
    "            loss += alpha2 * abs(p - t)\n",
    "        else:\n",
    "            loss += abs(p - t)\n",
    "    return loss / len(pred.flatten())\n",
    "\n",
    "\n",
    "def lossgrad_loss(pred, target, fake=None):\n",
    "    kernel = torch.tensor([[1, 0, -1],\n",
    "                            [2, 0, -2],\n",
    "                            [1, 0, -1]], dtype=torch.float32).unsqueeze(0).unsqueeze(0)\n",
    "    \n",
    "    kernel = kernel.to(pred.device)\n",
    "    \n",
    "    pred_grad_x = F.conv2d(pred.unsqueeze(0), kernel, padding=1)\n",
    "    target_grad_x = F.conv2d(target.unsqueeze(0), kernel, padding=1)\n",
    "\n",
    "    sobel_kernel_vertical = kernel.transpose(2, 3)\n",
    "    \n",
    "    pred_grad_y = F.conv2d(pred.unsqueeze(0), sobel_kernel_vertical, padding=1)\n",
    "    target_grad_y = F.conv2d(target.unsqueeze(0), sobel_kernel_vertical, padding=1)\n",
    "    \n",
    "    x_ind = ~torch.isinf(target_grad_x) & ~torch.isnan(target_grad_x)\n",
    "    y_ind = ~torch.isinf(target_grad_y) & ~torch.isnan(target_grad_y)\n",
    "\n",
    "    grad_error_x = torch.abs(pred_grad_x[x_ind] - target_grad_x[x_ind])\n",
    "    grad_error_y = torch.abs(pred_grad_y[y_ind] - target_grad_y[y_ind])\n",
    "\n",
    "    loss = (grad_error_x.sum() + grad_error_y.sum()) / (len(grad_error_x) + len(grad_error_y))\n",
    "    return loss\n"
   ]
  },
  {
   "cell_type": "code",
   "execution_count": 5,
   "id": "c45e6318",
   "metadata": {},
   "outputs": [],
   "source": [
    "torch.serialization.add_safe_globals([nn.Conv2d])\n",
    "torch.serialization.add_safe_globals([nn.Sequential])\n",
    "torch.serialization.add_safe_globals([set])\n",
    "torch.serialization.add_safe_globals([nn.BatchNorm2d])\n",
    "torch.serialization.add_safe_globals([nn.ReLU])\n",
    "torch.serialization.add_safe_globals([nn.MaxPool2d])\n",
    "torch.serialization.add_safe_globals([nn.ConvTranspose2d]) \n",
    " \n",
    "torch.serialization.add_safe_globals([DoubleConv])\n",
    "torch.serialization.add_safe_globals([Down])\n",
    "torch.serialization.add_safe_globals([Up])\n",
    "torch.serialization.add_safe_globals([OutConv])\n",
    "torch.serialization.add_safe_globals([UNet])\n",
    "\n",
    "torch.serialization.add_safe_globals([mse_loss])"
   ]
  },
  {
   "cell_type": "code",
   "execution_count": 6,
   "id": "bf624548",
   "metadata": {},
   "outputs": [],
   "source": [
    "def compute_octile_distances(p):\n",
    "    \"\"\"\n",
    "    p: ndarray shape (N, 2), где N=100, A[i] = (x_i, y_i).\n",
    "    Возвращает ndarray shape (N, 64, 64), в котором D[i,j,k] —\n",
    "    octile-расстояние между точками (j, k) и (x_i, y_i) на i-ой карте.\n",
    "    \"\"\"\n",
    "    jv, kv = np.meshgrid(np.arange(64), np.arange(64), indexing='ij')\n",
    "    jv_ = jv[None, :, :]  # (1, 64, 64)\n",
    "    kv_ = kv[None, :, :]  # (1, 64, 64)\n",
    "\n",
    "    x_ = p[:, 0][:, None, None]  # (N, 1, 1)\n",
    "    y_ = p[:, 1][:, None, None]  # (N, 1, 1)\n",
    "\n",
    "    dx = np.abs(jv_ - x_)\n",
    "    dy = np.abs(kv_ - y_)\n",
    "    return np.maximum(dx, dy) + (np.sqrt(2) - 1) * np.minimum(dx, dy)\n"
   ]
  },
  {
   "cell_type": "markdown",
   "id": "498ffaf6",
   "metadata": {},
   "source": [
    "# Calculation"
   ]
  },
  {
   "cell_type": "code",
   "execution_count": 7,
   "id": "2e20cfb1",
   "metadata": {},
   "outputs": [],
   "source": [
    "batch_size = 256\n",
    "mode = 'h'\n"
   ]
  },
  {
   "cell_type": "markdown",
   "id": "e83b2abc",
   "metadata": {},
   "source": [
    "## On TransPath dataset"
   ]
  },
  {
   "cell_type": "markdown",
   "id": "e8373dea",
   "metadata": {},
   "source": [
    "### Baseline"
   ]
  },
  {
   "cell_type": "code",
   "execution_count": 8,
   "id": "09de98d9",
   "metadata": {},
   "outputs": [
    {
     "name": "stderr",
     "output_type": "stream",
     "text": [
      "100%|██████████| 256/256 [00:05<00:00, 46.69it/s]\n"
     ]
    }
   ],
   "source": [
    "dataset_path = './TransPath_data/test'\n",
    "\n",
    "limit = batch_size\n",
    "\n",
    "test_data = GridData(\n",
    "        path=f'{dataset_path}',\n",
    "        mode=mode\n",
    "    )\n",
    "\n",
    "dataloader = DataLoader(\n",
    "        test_data,\n",
    "        batch_size=batch_size,\n",
    "        shuffle=False,\n",
    "        # num_workers=multiprocessing.cpu_count(), freezes jupyter notebook\n",
    "        pin_memory=True\n",
    "    )\n",
    "\n",
    "cells, goals, starts, targets = \\\n",
    "    np.concatenate(next(iter(dataloader)), axis=1).T.mT.T\n",
    "cells = cells.reshape(-1, 1, 64, 64)\n",
    "goals = goals.reshape(-1, 1, 64, 64)\n",
    "starts = starts.reshape(-1, 1, 64, 64)\n",
    "\n",
    "metrics = {'path_length' : [], 'expanded_nodes_num' : []}\n",
    "\n",
    "for i in tqdm(range(cells.shape[0])):\n",
    "    map = Map(cells[i, 0])\n",
    "    start_i, start_j = np.where(starts[i, 0])\n",
    "    start_i, start_j = start_i[0], start_j[0]\n",
    "    goal_i, goal_j = np.where(goals[i, 0])\n",
    "    goal_i, goal_j = goal_i[0], goal_j[0]\n",
    "    data = astar(map, start_i, start_j, goal_i, goal_j, octile_distance, SearchTreePQD)\n",
    "    assert data[0], draw(map, Node(start_i, start_j), Node(goal_i, goal_j))\n",
    "    path, length = make_path(data[1])\n",
    "    metrics['path_length'].append(length)\n",
    "    metrics['expanded_nodes_num'].append(len(data[-1]))"
   ]
  },
  {
   "cell_type": "code",
   "execution_count": 9,
   "id": "3f546e27",
   "metadata": {},
   "outputs": [],
   "source": [
    "df = pd.DataFrame.from_dict(metrics)"
   ]
  },
  {
   "cell_type": "code",
   "execution_count": 10,
   "id": "b41fbbeb",
   "metadata": {},
   "outputs": [],
   "source": [
    "df.to_csv('./baseline_vanilla_astar_hl.csv', index=False)"
   ]
  },
  {
   "cell_type": "markdown",
   "id": "dcdb810c",
   "metadata": {},
   "source": [
    "### Model"
   ]
  },
  {
   "cell_type": "code",
   "execution_count": 11,
   "id": "53aa93fa",
   "metadata": {},
   "outputs": [],
   "source": [
    "eval_model : UNet = torch.load('checkpoints/mode=0-epoch=2999-timestr=0.ckpt', weights_only=True)['hyper_parameters']['model']"
   ]
  },
  {
   "cell_type": "code",
   "execution_count": 12,
   "id": "0051f78b-3271-4a7f-af15-bda5c9d51f59",
   "metadata": {},
   "outputs": [
    {
     "name": "stderr",
     "output_type": "stream",
     "text": [
      "100%|██████████| 250/250 [00:05<00:00, 47.21it/s]\n"
     ]
    }
   ],
   "source": [
    "dataset_path = './TransPath_data'\n",
    "accelerator = \"cuda\"\n",
    "devices = [6]\n",
    "\n",
    "test_data = GridData(\n",
    "        path=f'{dataset_path}/test',\n",
    "        mode=mode\n",
    "    )\n",
    "\n",
    "dataloader = DataLoader(\n",
    "        test_data,\n",
    "        batch_size=batch_size,\n",
    "        shuffle=False,\n",
    "        # num_workers=multiprocessing.cpu_count(), freezes jupyter notebook\n",
    "        pin_memory=True\n",
    "    )\n",
    "\n",
    "eval_model.to(torch.device(f'{accelerator}:{devices[-1]}'))\n",
    "eval_model.eval()\n",
    "predictions = []\n",
    "for map_design, starts, goals, gt_hmap in tqdm(dataloader):\n",
    "    inputs = torch.cat([map_design, goals], dim=1) if mode in ('f', 'nastar') else torch.cat([map_design, goals], dim=1)\n",
    "    inputs = inputs.to(torch.device(f'{accelerator}:{devices[-1]}'))\n",
    "    \n",
    "    with torch.no_grad():\n",
    "        prediction = (eval_model(inputs) + 1) / 2 * 64 * 64\n",
    "\n",
    "    predictions.append(prediction)\n",
    "\n",
    "predictions = torch.cat(predictions).cpu().detach().numpy()"
   ]
  },
  {
   "cell_type": "code",
   "execution_count": 14,
   "id": "0c913d3c-884b-4650-a7ec-dbd24ee6da02",
   "metadata": {},
   "outputs": [],
   "source": [
    "np.save(f'{dataset_path}/test/predicted_abs.npy', predictions)"
   ]
  },
  {
   "cell_type": "code",
   "execution_count": 15,
   "id": "3bef9103-f87c-45cc-a7b5-ffc5b128bb46",
   "metadata": {},
   "outputs": [
    {
     "name": "stderr",
     "output_type": "stream",
     "text": [
      "100%|██████████| 256/256 [00:23<00:00, 10.95it/s]\n"
     ]
    }
   ],
   "source": [
    "dataset_path = './TransPath_data/test'\n",
    "\n",
    "limit = batch_size\n",
    "\n",
    "test_data = GridData(\n",
    "        path=f'{dataset_path}',\n",
    "        mode=mode\n",
    "    )\n",
    "\n",
    "dataloader = DataLoader(\n",
    "        test_data,\n",
    "        batch_size=batch_size,\n",
    "        shuffle=False,\n",
    "        # num_workers=multiprocessing.cpu_count(), freezes jupyter notebook\n",
    "        pin_memory=True\n",
    "    )\n",
    "\n",
    "cells, goals, starts, targets = \\\n",
    "    np.concatenate(next(iter(dataloader)), axis=1).T.mT.T\n",
    "heuristics = np.load(f'{dataset_path}/predicted_abs.npy', mmap_mode='c')[:limit]\n",
    "cells = cells.reshape(-1, 1, 64, 64)\n",
    "goals = goals.reshape(-1, 1, 64, 64)\n",
    "starts = starts.reshape(-1, 1, 64, 64)\n",
    "\n",
    "metrics = {'path_length' : [], 'expanded_nodes_num' : []}\n",
    "\n",
    "for i in tqdm(range(cells.shape[0])):\n",
    "    map = Map(cells[i, 0])\n",
    "    start_i, start_j = np.where(starts[i, 0])\n",
    "    start_i, start_j = start_i[0], start_j[0]\n",
    "    goal_i, goal_j = np.where(goals[i, 0])\n",
    "    goal_i, goal_j = goal_i[0], goal_j[0]\n",
    "    data = astar(map, start_i, start_j, goal_i, goal_j, heuristics[i, 0], SearchTreePQD)\n",
    "    assert data[0], draw(map, Node(start_i, start_j), Node(goal_i, goal_j))\n",
    "    path, length = make_path(data[1])\n",
    "    metrics['path_length'].append(length)\n",
    "    metrics['expanded_nodes_num'].append(len(data[-1]))"
   ]
  },
  {
   "cell_type": "code",
   "execution_count": 16,
   "id": "cbc929a3-f26a-4459-83b9-eb8a99e57284",
   "metadata": {},
   "outputs": [],
   "source": [
    "df = pd.DataFrame.from_dict(metrics)"
   ]
  },
  {
   "cell_type": "code",
   "execution_count": 17,
   "id": "25299a05-90eb-4d25-ac41-ba8126ab96a1",
   "metadata": {},
   "outputs": [],
   "source": [
    "df.to_csv('./vanilla_astar_hl.csv', index=False)\n"
   ]
  },
  {
   "cell_type": "markdown",
   "id": "33dc52c4",
   "metadata": {},
   "source": [
    "## On AlekSet dataset"
   ]
  },
  {
   "cell_type": "markdown",
   "id": "4771a315",
   "metadata": {},
   "source": [
    "### Baseline"
   ]
  },
  {
   "cell_type": "code",
   "execution_count": 18,
   "id": "ae4b3a2e",
   "metadata": {},
   "outputs": [
    {
     "name": "stderr",
     "output_type": "stream",
     "text": [
      "100%|██████████| 256/256 [00:06<00:00, 38.71it/s]\n"
     ]
    }
   ],
   "source": [
    "dataset_path = './AlekSet/test'\n",
    "\n",
    "limit = batch_size\n",
    "\n",
    "test_data = GridData(\n",
    "        path=f'{dataset_path}',\n",
    "        mode=mode\n",
    "    )\n",
    "\n",
    "dataloader = DataLoader(\n",
    "        test_data,\n",
    "        batch_size=batch_size,\n",
    "        shuffle=False,\n",
    "        # num_workers=multiprocessing.cpu_count(), freezes jupyter notebook\n",
    "        pin_memory=True\n",
    "    )\n",
    "\n",
    "cells, goals, starts, targets = \\\n",
    "    np.concatenate(next(iter(dataloader)), axis=1).T.mT.T\n",
    "cells = cells.reshape(-1, 1, 64, 64)\n",
    "goals = goals.reshape(-1, 1, 64, 64)\n",
    "starts = starts.reshape(-1, 1, 64, 64)\n",
    "\n",
    "metrics = {'path_length' : [], 'expanded_nodes_num' : []}\n",
    "\n",
    "for i in tqdm(range(cells.shape[0])):\n",
    "    map = Map(cells[i, 0])\n",
    "    start_i, start_j = np.where(starts[i, 0])\n",
    "    start_i, start_j = start_i[0], start_j[0]\n",
    "    goal_i, goal_j = np.where(goals[i, 0])\n",
    "    goal_i, goal_j = goal_i[0], goal_j[0]\n",
    "    data = astar(map, start_i, start_j, goal_i, goal_j, octile_distance, SearchTreePQD)\n",
    "    assert data[0], draw(map, Node(start_i, start_j), Node(goal_i, goal_j))\n",
    "    path, length = make_path(data[1])\n",
    "    metrics['path_length'].append(length)\n",
    "    metrics['expanded_nodes_num'].append(len(data[-1]))"
   ]
  },
  {
   "cell_type": "code",
   "execution_count": 19,
   "id": "20e8c8d1",
   "metadata": {},
   "outputs": [],
   "source": [
    "df = pd.DataFrame.from_dict(metrics)"
   ]
  },
  {
   "cell_type": "code",
   "execution_count": 20,
   "id": "c8635312",
   "metadata": {},
   "outputs": [],
   "source": [
    "df.to_csv('./alek_vanilla_astar_hl.csv', index=False)\n"
   ]
  },
  {
   "cell_type": "markdown",
   "id": "441c0892",
   "metadata": {},
   "source": [
    "#### Before FineTuning"
   ]
  },
  {
   "cell_type": "code",
   "execution_count": 21,
   "id": "81441b5e",
   "metadata": {},
   "outputs": [],
   "source": [
    "eval_model : UNet = torch.load('checkpoints/mode=0-epoch=2999-timestr=0.ckpt', weights_only=True)['hyper_parameters']['model']"
   ]
  },
  {
   "cell_type": "code",
   "execution_count": 22,
   "id": "1a360ebb",
   "metadata": {},
   "outputs": [
    {
     "name": "stderr",
     "output_type": "stream",
     "text": [
      "100%|██████████| 63/63 [00:01<00:00, 52.82it/s]\n"
     ]
    }
   ],
   "source": [
    "dataset_path = './AlekSet'\n",
    "accelerator = \"cuda\"\n",
    "devices = [6]\n",
    "\n",
    "test_data = GridData(\n",
    "        path=f'{dataset_path}/test',\n",
    "        mode=mode\n",
    "    )\n",
    "\n",
    "dataloader = DataLoader(\n",
    "        test_data, \n",
    "        batch_size=batch_size,\n",
    "        shuffle=False, \n",
    "        # num_workers=multiprocessing.cpu_count(), freezes jupyter notebook\n",
    "        pin_memory=True\n",
    "    )\n",
    "\n",
    "eval_model.to(torch.device(f'{accelerator}:{devices[-1]}'))\n",
    "eval_model.eval()\n",
    "predictions = []\n",
    "for map_design, starts, goals, gt_hmap in tqdm(dataloader):\n",
    "    inputs = torch.cat([map_design, goals], dim=1) if mode in ('f', 'nastar') else torch.cat([map_design, goals], dim=1)\n",
    "    inputs = inputs.to(torch.device(f'{accelerator}:{devices[-1]}'))\n",
    "    \n",
    "    with torch.no_grad():\n",
    "        prediction = (eval_model(inputs) + 1) / 2 * 64 * 64\n",
    "\n",
    "    predictions.append(prediction)\n",
    "\n",
    "predictions = torch.cat(predictions).cpu().detach().numpy()"
   ]
  },
  {
   "cell_type": "code",
   "execution_count": 23,
   "id": "af42b00c",
   "metadata": {},
   "outputs": [],
   "source": [
    "np.save(f'{dataset_path}/test/predicted_abs_before.npy', predictions)"
   ]
  },
  {
   "cell_type": "code",
   "execution_count": 24,
   "id": "8b2be3ab",
   "metadata": {},
   "outputs": [
    {
     "name": "stderr",
     "output_type": "stream",
     "text": [
      "  0%|          | 0/256 [00:00<?, ?it/s]"
     ]
    },
    {
     "name": "stderr",
     "output_type": "stream",
     "text": [
      "100%|██████████| 256/256 [00:09<00:00, 28.21it/s]\n"
     ]
    }
   ],
   "source": [
    "dataset_path = './AlekSet/test'\n",
    "\n",
    "limit = batch_size\n",
    "\n",
    "test_data = GridData(\n",
    "        path=f'{dataset_path}',\n",
    "        mode=mode\n",
    "    )\n",
    "\n",
    "dataloader = DataLoader(\n",
    "        test_data,\n",
    "        batch_size=batch_size,\n",
    "        shuffle=False,\n",
    "        # num_workers=multiprocessing.cpu_count(), freezes jupyter notebook\n",
    "        pin_memory=True\n",
    "    )\n",
    "\n",
    "cells, goals, starts, targets = \\\n",
    "    np.concatenate(next(iter(dataloader)), axis=1).T.mT.T\n",
    "heuristics = np.load(f'{dataset_path}/predicted_abs_before.npy', mmap_mode='c')[:limit]\n",
    "cells = cells.reshape(-1, 1, 64, 64)\n",
    "goals = goals.reshape(-1, 1, 64, 64)\n",
    "starts = starts.reshape(-1, 1, 64, 64)\n",
    "\n",
    "metrics = {'path_length' : [], 'expanded_nodes_num' : []}\n",
    "\n",
    "for i in tqdm(range(cells.shape[0])):\n",
    "    map = Map(cells[i, 0])\n",
    "    start_i, start_j = np.where(starts[i, 0])\n",
    "    start_i, start_j = start_i[0], start_j[0]\n",
    "    goal_i, goal_j = np.where(goals[i, 0])\n",
    "    goal_i, goal_j = goal_i[0], goal_j[0]\n",
    "    data = astar(map, start_i, start_j, goal_i, goal_j, heuristics[i, 0], SearchTreePQD)\n",
    "    assert data[0], draw(map, Node(start_i, start_j), Node(goal_i, goal_j))\n",
    "    path, length = make_path(data[1])\n",
    "    metrics['path_length'].append(length)\n",
    "    metrics['expanded_nodes_num'].append(len(data[-1]))"
   ]
  },
  {
   "cell_type": "code",
   "execution_count": 25,
   "id": "d9e4bc59",
   "metadata": {},
   "outputs": [],
   "source": [
    "df = pd.DataFrame.from_dict(metrics)"
   ]
  },
  {
   "cell_type": "code",
   "execution_count": 26,
   "id": "697152f5",
   "metadata": {},
   "outputs": [],
   "source": [
    "df.to_csv('./Alek_before_fintuning_vanilla_astar_hl.csv', index=False)\n"
   ]
  },
  {
   "cell_type": "markdown",
   "id": "a7e837ec",
   "metadata": {},
   "source": [
    "### After FineTuning"
   ]
  },
  {
   "cell_type": "code",
   "execution_count": 27,
   "id": "70b492e5",
   "metadata": {},
   "outputs": [],
   "source": [
    "eval_model : UNet = torch.load('checkpoints_Alek/mode=0-epoch=599-timestr=0.ckpt', weights_only=True)['hyper_parameters']['model']"
   ]
  },
  {
   "cell_type": "code",
   "execution_count": 28,
   "id": "2d12e2f3",
   "metadata": {},
   "outputs": [
    {
     "name": "stderr",
     "output_type": "stream",
     "text": [
      "100%|██████████| 63/63 [00:01<00:00, 52.90it/s]\n"
     ]
    }
   ],
   "source": [
    "dataset_path = './AlekSet'\n",
    "mode = 'h'\n",
    "accelerator = \"cuda\"\n",
    "devices = [6]\n",
    "\n",
    "test_data = GridData(\n",
    "        path=f'{dataset_path}/test',\n",
    "        mode=mode\n",
    "    )\n",
    "\n",
    "dataloader = DataLoader(\n",
    "        test_data, \n",
    "        batch_size=batch_size,\n",
    "        shuffle=False, \n",
    "        # num_workers=multiprocessing.cpu_count(), freezes jupyter notebook\n",
    "        pin_memory=True\n",
    "    )\n",
    "\n",
    "eval_model.to(torch.device(f'{accelerator}:{devices[-1]}'))\n",
    "eval_model.eval()\n",
    "predictions = []\n",
    "for map_design, starts, goals, gt_hmap in tqdm(dataloader):\n",
    "    inputs = torch.cat([map_design, goals], dim=1) if mode in ('f', 'nastar') else torch.cat([map_design, goals], dim=1)\n",
    "    inputs = inputs.to(torch.device(f'{accelerator}:{devices[-1]}'))\n",
    "\n",
    "    with torch.no_grad():\n",
    "        prediction = (eval_model(inputs) + 1) / 2 * 64 * 64\n",
    "\n",
    "    predictions.append(prediction)\n",
    "\n",
    "predictions = torch.cat(predictions).cpu().detach().numpy()"
   ]
  },
  {
   "cell_type": "code",
   "execution_count": 29,
   "id": "3c49ebf1",
   "metadata": {},
   "outputs": [],
   "source": [
    "np.save(f'{dataset_path}/test/predicted_abs_after.npy', predictions)"
   ]
  },
  {
   "cell_type": "code",
   "execution_count": 30,
   "id": "20b04d1a",
   "metadata": {},
   "outputs": [
    {
     "name": "stderr",
     "output_type": "stream",
     "text": [
      "  0%|          | 0/256 [00:00<?, ?it/s]"
     ]
    },
    {
     "name": "stderr",
     "output_type": "stream",
     "text": [
      "100%|██████████| 256/256 [00:10<00:00, 23.73it/s]\n"
     ]
    }
   ],
   "source": [
    "dataset_path = './AlekSet/test'\n",
    "\n",
    "limit = batch_size\n",
    "\n",
    "test_data = GridData(\n",
    "        path=f'{dataset_path}',\n",
    "        mode=mode\n",
    "    )\n",
    "\n",
    "dataloader = DataLoader(\n",
    "        test_data,\n",
    "        batch_size=batch_size,\n",
    "        shuffle=False,\n",
    "        # num_workers=multiprocessing.cpu_count(), freezes jupyter notebook\n",
    "        pin_memory=True\n",
    "    )\n",
    "\n",
    "cells, goals, starts, targets = \\\n",
    "    np.concatenate(next(iter(dataloader)), axis=1).T.mT.T\n",
    "heuristics = np.load(f'{dataset_path}/predicted_abs_after.npy', mmap_mode='c')[:limit]\n",
    "cells = cells.reshape(-1, 1, 64, 64)\n",
    "goals = goals.reshape(-1, 1, 64, 64)\n",
    "starts = starts.reshape(-1, 1, 64, 64)\n",
    "\n",
    "metrics = {'path_length' : [], 'expanded_nodes_num' : []}\n",
    "\n",
    "for i in tqdm(range(cells.shape[0])):\n",
    "    map = Map(cells[i, 0])\n",
    "    start_i, start_j = np.where(starts[i, 0])\n",
    "    start_i, start_j = start_i[0], start_j[0]\n",
    "    goal_i, goal_j = np.where(goals[i, 0])\n",
    "    goal_i, goal_j = goal_i[0], goal_j[0]\n",
    "    data = astar(map, start_i, start_j, goal_i, goal_j, heuristics[i, 0], SearchTreePQD)\n",
    "    assert data[0], draw(map, Node(start_i, start_j), Node(goal_i, goal_j))\n",
    "    path, length = make_path(data[1])\n",
    "    metrics['path_length'].append(length)\n",
    "    metrics['expanded_nodes_num'].append(len(data[-1]))"
   ]
  },
  {
   "cell_type": "code",
   "execution_count": 31,
   "id": "f9fe873c",
   "metadata": {},
   "outputs": [],
   "source": [
    "df = pd.DataFrame.from_dict(metrics)"
   ]
  },
  {
   "cell_type": "code",
   "execution_count": 32,
   "id": "f3cb06ad",
   "metadata": {},
   "outputs": [],
   "source": [
    "df.to_csv('./Alek_after_fintuning_vanilla_astar_hl.csv', index=False)\n"
   ]
  },
  {
   "cell_type": "markdown",
   "id": "0b3d6952",
   "metadata": {},
   "source": [
    "# Resutls"
   ]
  },
  {
   "cell_type": "markdown",
   "id": "e6ab7f8d",
   "metadata": {},
   "source": [
    "## TMP"
   ]
  },
  {
   "cell_type": "code",
   "execution_count": 116,
   "id": "28d1d161",
   "metadata": {},
   "outputs": [],
   "source": [
    "import visualizatoin\n",
    "\n",
    "dataset_path = './TransPath_data/test'\n",
    "test_data = GridData(\n",
    "        path=f'{dataset_path}',\n",
    "        mode=mode\n",
    "    )\n",
    "\n",
    "dataloader = DataLoader(\n",
    "        test_data,\n",
    "        batch_size=batch_size,\n",
    "        shuffle=False,\n",
    "        # num_workers=multiprocessing.cpu_count(), freezes jupyter notebook\n",
    "        pin_memory=True\n",
    "    )\n",
    "\n",
    "cells, goals, starts, targets = \\\n",
    "    np.concatenate(next(iter(dataloader)), axis=1).T.mT.T\n",
    "cells = cells.reshape(-1, 1, 64, 64)\n",
    "goals = goals.reshape(-1, 1, 64, 64)\n",
    "starts = starts.reshape(-1, 1, 64, 64)\n"
   ]
  },
  {
   "cell_type": "code",
   "execution_count": 118,
   "id": "d9b5cfcc",
   "metadata": {},
   "outputs": [
    {
     "name": "stdout",
     "output_type": "stream",
     "text": [
      "[[33  8]] [[19 33]]\n"
     ]
    },
    {
     "data": {
      "image/png": "[encoded data removed]",
      "text/plain": [
       "<Figure size 600x600 with 2 Axes>"
      ]
     },
     "metadata": {},
     "output_type": "display_data"
    }
   ],
   "source": [
    "ind = 93\n",
    "\n",
    "T = np.concat([cells[ind], starts[ind], goals[ind]]).reshape(3, 1, 64, 64)\n",
    "pred = targets[ind]\n",
    "\n",
    "visualizatoin.plot_map(T, ind, pred)"
   ]
  },
  {
   "cell_type": "code",
   "execution_count": null,
   "id": "477c91b0",
   "metadata": {},
   "outputs": [],
   "source": [
    "df_alek_after = pd.read_csv('./Alek_after_fintuning_vanilla_astar_hl.csv')\n",
    "df_alek_before = pd.read_csv('./Alek_before_fintuning_vanilla_astar_hl.csv')\n",
    "df_alek_baseline = pd.read_csv('./alek_vanilla_astar_hl.csv')\n",
    "df_tmp_unet = pd.read_csv('./vanilla_astar_hl.csv')\n",
    "df_tmp_baseline = pd.read_csv('./baseline_vanilla_astar_hl.csv')"
   ]
  },
  {
   "cell_type": "code",
   "execution_count": 110,
   "id": "77690094",
   "metadata": {},
   "outputs": [],
   "source": [
    "def CompareWithBaseline(df_baseline, df_target):\n",
    "    print(f\"Min devide: {(df_target.path_length / df_baseline.path_length).min():.2f}\")\n",
    "    \n",
    "    print(f\"Accuracy: {np.isclose(df_target.path_length, df_baseline.path_length).mean() * 100:.2f}\")\n",
    "    \n",
    "    print(f\"Length ratio: {(df_target.path_length / df_baseline.path_length).mean() * 100:.2f} ± \" + \\\n",
    "          f\"{(df_target.path_length / df_baseline.path_length).std() * 100:.2f}\")\n",
    "    \n",
    "    print(f\"Length RMSE: {(df_target.path_length - df_baseline.path_length).std():.2f}\")\n",
    "    \n",
    "    print(f\"Expansions ratio : {(df_target.expanded_nodes_num / df_baseline.expanded_nodes_num).mean() * 100:.2f} ± \" + \\\n",
    "          f\"{(df_target.expanded_nodes_num / df_baseline.expanded_nodes_num).std() * 100:.2f}\")\n",
    "    \n",
    "    print(f\"Expansions RMSE: {(df_target.expanded_nodes_num / df_baseline.expanded_nodes_num).median() * 100:.2f}\")"
   ]
  },
  {
   "cell_type": "code",
   "execution_count": 111,
   "id": "98f6a6ec",
   "metadata": {},
   "outputs": [
    {
     "name": "stdout",
     "output_type": "stream",
     "text": [
      "Min devide: 1.00\n",
      "Accuracy: 63.28\n",
      "Length ratio: 101.85 ± 5.16\n",
      "Length RMSE: 4.12\n",
      "Expansions ratio : 2023.92 ± 2329.28\n",
      "Expansions RMSE: 876.69\n"
     ]
    }
   ],
   "source": [
    "CompareWithBaseline(df_tmp_baseline, df_tmp_unet)"
   ]
  },
  {
   "cell_type": "code",
   "execution_count": 112,
   "id": "dade0255",
   "metadata": {},
   "outputs": [
    {
     "name": "stdout",
     "output_type": "stream",
     "text": [
      "Min devide: 1.00\n",
      "Accuracy: 1.56\n",
      "Length ratio: 148.30 ± 55.37\n",
      "Length RMSE: 32.31\n",
      "Expansions ratio : 306.14 ± 255.17\n",
      "Expansions RMSE: 216.40\n"
     ]
    }
   ],
   "source": [
    "CompareWithBaseline(df_alek_baseline, df_alek_before)"
   ]
  },
  {
   "cell_type": "code",
   "execution_count": 113,
   "id": "e867fe99",
   "metadata": {},
   "outputs": [
    {
     "name": "stdout",
     "output_type": "stream",
     "text": [
      "Min devide: 1.00\n",
      "Accuracy: 2.73\n",
      "Length ratio: 113.53 ± 13.61\n",
      "Length RMSE: 9.56\n",
      "Expansions ratio : 406.12 ± 345.69\n",
      "Expansions RMSE: 293.76\n"
     ]
    }
   ],
   "source": [
    "CompareWithBaseline(df_alek_baseline, df_alek_after)"
   ]
  }
 ],
 "metadata": {
  "kernelspec": {
   "display_name": "Python 3 (ipykernel)",
   "language": "python",
   "name": "python3"
  },
  "language_info": {
   "codemirror_mode": {
    "name": "ipython",
    "version": 3
   },
   "file_extension": ".py",
   "mimetype": "text/x-python",
   "name": "python",
   "nbconvert_exporter": "python",
   "pygments_lexer": "ipython3",
   "version": "3.12.8"
  }
 },
 "nbformat": 4,
 "nbformat_minor": 5
}
