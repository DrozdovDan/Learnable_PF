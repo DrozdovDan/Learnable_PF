{
 "cells": [
  {
   "cell_type": "code",
   "execution_count": 2,
   "id": "9f7caeec-05b3-4c9e-bbf4-35f6dc6b2915",
   "metadata": {},
   "outputs": [],
   "source": [
    "import os \n",
    "os.environ['KMP_DUPLICATE_LIB_OK']='True'\n",
    "\n",
    "import time\n",
    "import torch\n",
    "from torch import nn\n",
    "import torch.nn.functional as F\n",
    "from torch import Tensor\n",
    "from torch.utils.data import Dataset, DataLoader\n",
    "import numpy as np\n",
    "from einops import rearrange\n",
    "import lightning as L\n",
    "from lightning.pytorch.utilities.types import STEP_OUTPUT\n",
    "from pytorch_lightning.loggers import WandbLogger\n",
    "from lightning.pytorch.callbacks import ModelCheckpoint\n",
    "from typing import Any\n",
    "import wandb\n",
    "import multiprocessing\n",
    "import matplotlib.pyplot as plt\n",
    "\n",
    "from TransPath_model import TransPathModel, GridData, PathLogger, TransPathLit"
   ]
  },
  {
   "cell_type": "code",
   "execution_count": null,
   "id": "58e52ff5-ff50-4e5c-98fa-ce6f17fac0d9",
   "metadata": {},
   "outputs": [],
   "source": [
    "dataset_dir = './TransPath_data'\n",
    "mode = 'h'\n",
    "batch_size = 256\n",
    "max_epochs = 200\n",
    "learning_rate = 4e-4\n",
    "weight_decay = 0.0\n",
    "limit_train_batches = None\n",
    "limit_val_batches = None\n",
    "proj_name = 'TransPath_runs'\n",
    "run_name = 'default'\n",
    "accelerator = \"cuda\"\n",
    "devices = [6]\n",
    "torch.set_default_device(torch.device(f\"cuda:{devices[-1]}\"))"
   ]
  },
  {
   "cell_type": "code",
   "execution_count": null,
   "id": "1fbb0a7c-385f-43eb-9e02-fdb35cf881ef",
   "metadata": {},
   "outputs": [],
   "source": [
    "train_data = GridData(\n",
    "        path=f'{dataset_dir}/train',\n",
    "        mode=mode\n",
    "    )\n",
    "val_data = GridData(\n",
    "        path=f'{dataset_dir}/val',\n",
    "        mode=mode\n",
    "    )\n",
    "resolution = (train_data.img_size, train_data.img_size)"
   ]
  },
  {
   "cell_type": "code",
   "execution_count": null,
   "id": "4099e54b-6ad5-4a26-a4e9-3c9048a97dc4",
   "metadata": {},
   "outputs": [],
   "source": [
    "torch.manual_seed(42)\n",
    "train_dataloader = DataLoader(\n",
    "        train_data, \n",
    "        batch_size=batch_size,\n",
    "        shuffle=True, \n",
    "        # num_workers=multiprocessing.cpu_count(), freezes jupyter notebook\n",
    "        pin_memory=True,\n",
    "        generator=torch.Generator(device=f'cuda:{devices[-1]}'),\n",
    "    )\n",
    "val_dataloader = DataLoader(\n",
    "        val_data, \n",
    "        batch_size=batch_size,\n",
    "        shuffle=False, \n",
    "        # num_workers=multiprocessing.cpu_count(), freezes jupyter notebook\n",
    "        pin_memory=True\n",
    "    )\n",
    "samples = next(iter(val_dataloader))"
   ]
  },
  {
   "cell_type": "code",
   "execution_count": null,
   "id": "62528dff-173b-4754-88c2-fb0b0183fa4b",
   "metadata": {},
   "outputs": [],
   "source": [
    "torch.manual_seed(42)\n",
    "callback = PathLogger(samples, mode=mode, num_samples=20)\n",
    "checkpoints = ModelCheckpoint(dirpath='checkpoints/', filename='{epoch}', every_n_epochs=50)\n",
    "wandb_logger = WandbLogger(project=proj_name, name=f'{run_name}_{mode}', log_model='all')\n",
    "\n",
    "#model_path = './weights/alex_100_h_model'\n",
    "model = TransPathModel()\n",
    "#model.load_state_dict(torch.load(model_path, weights_only=True))\n",
    "lit_module = TransPathLit(\n",
    "        model=model,\n",
    "        mode=mode,\n",
    "        learning_rate=learning_rate,\n",
    "        weight_decay=weight_decay\n",
    "    )\n",
    "\n",
    "trainer = L.Trainer(\n",
    "        logger=wandb_logger,\n",
    "        accelerator=accelerator,\n",
    "        devices=devices,\n",
    "        max_epochs=max_epochs,\n",
    "        deterministic=False,\n",
    "        limit_train_batches=limit_train_batches,\n",
    "        limit_val_batches=limit_val_batches,\n",
    "        callbacks=[callback, checkpoints],\n",
    "    )"
   ]
  },
  {
   "cell_type": "code",
   "execution_count": null,
   "id": "54e59aab-ae32-4970-bccb-6253ba6a1e2f",
   "metadata": {},
   "outputs": [],
   "source": [
    "trainer.fit(lit_module, train_dataloader, val_dataloader)\n",
    "wandb.finish()"
   ]
  },
  {
   "cell_type": "code",
   "execution_count": null,
   "id": "6bc5c899-85cc-4dc5-a830-090618af802a",
   "metadata": {},
   "outputs": [],
   "source": [
    "weights_dir = './weights/'\n",
    "timestr = time.strftime(\"%Y%m%d-%H%M%S\")\n",
    "torch.save(model.state_dict(), f'{weights_dir}/model_{mode}_{timestr}')"
   ]
  }
 ],
 "metadata": {
  "kernelspec": {
   "display_name": "Python 3 (ipykernel)",
   "language": "python",
   "name": "python3"
  },
  "language_info": {
   "codemirror_mode": {
    "name": "ipython",
    "version": 3
   },
   "file_extension": ".py",
   "mimetype": "text/x-python",
   "name": "python",
   "nbconvert_exporter": "python",
   "pygments_lexer": "ipython3",
   "version": "3.12.8"
  }
 },
 "nbformat": 4,
 "nbformat_minor": 5
}
